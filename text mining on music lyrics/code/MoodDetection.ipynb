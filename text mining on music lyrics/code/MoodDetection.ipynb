{
 "cells": [
  {
   "cell_type": "code",
   "execution_count": 1,
   "metadata": {
    "collapsed": false
   },
   "outputs": [
    {
     "data": {
      "text/html": [
       "<div>\n",
       "<table border=\"1\" class=\"dataframe\">\n",
       "  <thead>\n",
       "    <tr style=\"text-align: right;\">\n",
       "      <th></th>\n",
       "      <th>file</th>\n",
       "      <th>artist</th>\n",
       "      <th>title</th>\n",
       "      <th>lyrics</th>\n",
       "      <th>mood</th>\n",
       "      <th>year</th>\n",
       "    </tr>\n",
       "  </thead>\n",
       "  <tbody>\n",
       "    <tr>\n",
       "      <th>0</th>\n",
       "      <td>TRAACER128F4290F96.h5</td>\n",
       "      <td>The Dillinger Escape Plan</td>\n",
       "      <td>Setting Fire to Sleeping Giants</td>\n",
       "      <td>First off let me say you look so tired...\\r\\nR...</td>\n",
       "      <td>1</td>\n",
       "      <td>2004</td>\n",
       "    </tr>\n",
       "    <tr>\n",
       "      <th>1</th>\n",
       "      <td>TRAACNS128F14A2DF5.h5</td>\n",
       "      <td>Willie Bobo</td>\n",
       "      <td>Spanish Grease</td>\n",
       "      <td>Ain't no love\\r\\nAin't no love\\r\\nAin't no lov...</td>\n",
       "      <td>1</td>\n",
       "      <td>1997</td>\n",
       "    </tr>\n",
       "    <tr>\n",
       "      <th>2</th>\n",
       "      <td>TRAADQX128F422B4CF.h5</td>\n",
       "      <td>Casiotone For The Painfully Alone</td>\n",
       "      <td>Nashville Parthenon</td>\n",
       "      <td>If you ever make it back to Nashville\\r\\nRemem...</td>\n",
       "      <td>1</td>\n",
       "      <td>2006</td>\n",
       "    </tr>\n",
       "    <tr>\n",
       "      <th>3</th>\n",
       "      <td>TRAAEEH128E0795DFE.h5</td>\n",
       "      <td>Chris Rea</td>\n",
       "      <td>Driving Home For Christmas</td>\n",
       "      <td>I'm driving home for Christmas\\r\\nOh, I can't ...</td>\n",
       "      <td>1</td>\n",
       "      <td>1986</td>\n",
       "    </tr>\n",
       "    <tr>\n",
       "      <th>4</th>\n",
       "      <td>TRAAGCZ128F93210FD.h5</td>\n",
       "      <td>Black Eyed Peas</td>\n",
       "      <td>Let's Get It Started</td>\n",
       "      <td>Let's get it started, in here...\\r\\n\\r\\nAnd th...</td>\n",
       "      <td>1</td>\n",
       "      <td>2004</td>\n",
       "    </tr>\n",
       "  </tbody>\n",
       "</table>\n",
       "</div>"
      ],
      "text/plain": [
       "                    file                             artist  \\\n",
       "0  TRAACER128F4290F96.h5          The Dillinger Escape Plan   \n",
       "1  TRAACNS128F14A2DF5.h5                        Willie Bobo   \n",
       "2  TRAADQX128F422B4CF.h5  Casiotone For The Painfully Alone   \n",
       "3  TRAAEEH128E0795DFE.h5                          Chris Rea   \n",
       "4  TRAAGCZ128F93210FD.h5                    Black Eyed Peas   \n",
       "\n",
       "                             title  \\\n",
       "0  Setting Fire to Sleeping Giants   \n",
       "1                   Spanish Grease   \n",
       "2              Nashville Parthenon   \n",
       "3       Driving Home For Christmas   \n",
       "4             Let's Get It Started   \n",
       "\n",
       "                                              lyrics  mood  year  \n",
       "0  First off let me say you look so tired...\\r\\nR...     1  2004  \n",
       "1  Ain't no love\\r\\nAin't no love\\r\\nAin't no lov...     1  1997  \n",
       "2  If you ever make it back to Nashville\\r\\nRemem...     1  2006  \n",
       "3  I'm driving home for Christmas\\r\\nOh, I can't ...     1  1986  \n",
       "4  Let's get it started, in here...\\r\\n\\r\\nAnd th...     1  2004  "
      ]
     },
     "execution_count": 1,
     "metadata": {},
     "output_type": "execute_result"
    }
   ],
   "source": [
    "import pandas as pd\n",
    "import matplotlib.pyplot as plt\n",
    "import seaborn as sns\n",
    "\n",
    "df = pd.read_csv('lyrics_166.csv')\n",
    "\n",
    "df.head()"
   ]
  },
  {
   "cell_type": "code",
   "execution_count": 71,
   "metadata": {
    "collapsed": false
   },
   "outputs": [],
   "source": [
    "data_X = df['lyrics'].values\n",
    "data_Y = df['mood'].values"
   ]
  },
  {
   "cell_type": "markdown",
   "metadata": {
    "collapsed": false
   },
   "source": [
    "### remove lyrics puncuation using proter stemmer"
   ]
  },
  {
   "cell_type": "code",
   "execution_count": 73,
   "metadata": {
    "collapsed": true
   },
   "outputs": [],
   "source": [
    "# Porter Stemmer\n",
    "\n",
    "import nltk\n",
    "import string\n",
    "import re\n",
    "\n",
    "porter_stemmer = nltk.stem.porter.PorterStemmer()\n",
    "def porter_tokenizer(text, stemmer=porter_stemmer):\n",
    "    lower_txt = text.lower()\n",
    "    tokens = nltk.wordpunct_tokenize(lower_txt)\n",
    "    stems = [porter_stemmer.stem(t) for t in tokens]\n",
    "    no_punct = [s for s in stems if re.match('^[a-zA-Z]+$', s) is not None]\n",
    "    return no_punct"
   ]
  },
  {
   "cell_type": "markdown",
   "metadata": {},
   "source": [
    "### build TfidfVectorizer "
   ]
  },
  {
   "cell_type": "code",
   "execution_count": 74,
   "metadata": {
    "collapsed": false
   },
   "outputs": [],
   "source": [
    "\n",
    "from sklearn.feature_extraction.text import TfidfVectorizer\n",
    "\n",
    "tfidf = TfidfVectorizer(\n",
    "            encoding='utf-8',\n",
    "            decode_error='replace',\n",
    "            strip_accents='unicode',\n",
    "            analyzer='word',\n",
    "            binary=False,\n",
    "            stop_words=\"english\",\n",
    "            tokenizer=porter_tokenizer\n",
    "    )"
   ]
  },
  {
   "cell_type": "markdown",
   "metadata": {},
   "source": [
    "### build training data and test data"
   ]
  },
  {
   "cell_type": "code",
   "execution_count": 75,
   "metadata": {
    "collapsed": false
   },
   "outputs": [],
   "source": [
    "data_X = tfidf.fit_transform(data_X)\n",
    "from sklearn.cross_validation import train_test_split\n",
    "X_train, X_test, y_train, y_test = train_test_split(data_X, data_Y, test_size=0.4, random_state=0)\n",
    "\n",
    "# print('Vocabulary size: %s' %len(tfidf.get_feature_names()))"
   ]
  },
  {
   "cell_type": "code",
   "execution_count": 76,
   "metadata": {
    "collapsed": false
   },
   "outputs": [],
   "source": [
    "# train_vectors = tfidf.fit_transform(X_train) \n",
    "# test_vectors = tfidf.fit_transform(X_test) "
   ]
  },
  {
   "cell_type": "code",
   "execution_count": 77,
   "metadata": {
    "collapsed": false
   },
   "outputs": [
    {
     "data": {
      "text/plain": [
       "(116, 2422)"
      ]
     },
     "execution_count": 77,
     "metadata": {},
     "output_type": "execute_result"
    }
   ],
   "source": [
    "train_vectors.shape"
   ]
  },
  {
   "cell_type": "code",
   "execution_count": 78,
   "metadata": {
    "collapsed": false
   },
   "outputs": [
    {
     "data": {
      "text/plain": [
       "(50, 1642)"
      ]
     },
     "execution_count": 78,
     "metadata": {},
     "output_type": "execute_result"
    }
   ],
   "source": [
    "test_vectors.shape"
   ]
  },
  {
   "cell_type": "markdown",
   "metadata": {},
   "source": [
    "### Build SVM model"
   ]
  },
  {
   "cell_type": "code",
   "execution_count": 79,
   "metadata": {
    "collapsed": false
   },
   "outputs": [],
   "source": [
    "from sklearn.svm import SVC\n",
    "import sklearn.metrics as metrics"
   ]
  },
  {
   "cell_type": "code",
   "execution_count": 80,
   "metadata": {
    "collapsed": false
   },
   "outputs": [],
   "source": [
    "classifier_rbf = SVC()\n",
    "classifier_rbf.fit(X_train, y_train)\n",
    "prediction_rbf = classifier_rbf.predict(X_test)"
   ]
  },
  {
   "cell_type": "code",
   "execution_count": 81,
   "metadata": {
    "collapsed": true
   },
   "outputs": [],
   "source": [
    "#define a prediction result report\n",
    "from sklearn.metrics import classification_report\n",
    "def prediction_evaluation(model_name,model,test_X,test_Y):\n",
    "    y_pred = model.predict(test_X)\n",
    "    cm = metrics.confusion_matrix(test_Y, y_pred)\n",
    "    plt.figure(figsize=(5,5))\n",
    "    # resulting confusion matrix\n",
    "    sns.heatmap(cm, annot=True, fmt=\"d\", xticklabels=[\"sad\",\"happy\"], yticklabels=[\"sad\",\"happy\"])\n",
    "    \n",
    "    # classificatioon reprot\n",
    "    print(classification_report(test_Y, y_pred, \\\n",
    "                            target_names = [\"sad\",\"happy\"]))\n",
    "    # accuracy reprot\n",
    "    print(\"#### {0} accuracy = {1:5.1f}%\".format(model_name,100.0 * model.score(test_X, test_Y)))\n",
    "    \n",
    "    plt.show()"
   ]
  },
  {
   "cell_type": "code",
   "execution_count": 82,
   "metadata": {
    "collapsed": false
   },
   "outputs": [
    {
     "name": "stdout",
     "output_type": "stream",
     "text": [
      "             precision    recall  f1-score   support\n",
      "\n",
      "        sad       0.64      1.00      0.78        43\n",
      "      happy       0.00      0.00      0.00        24\n",
      "\n",
      "avg / total       0.41      0.64      0.50        67\n",
      "\n",
      "#### SVM accuracy =  64.2%\n"
     ]
    },
    {
     "name": "stderr",
     "output_type": "stream",
     "text": [
      "C:\\Users\\10465\\Anaconda3\\lib\\site-packages\\sklearn\\metrics\\classification.py:1074: UndefinedMetricWarning: Precision and F-score are ill-defined and being set to 0.0 in labels with no predicted samples.\n",
      "  'precision', 'predicted', average, warn_for)\n"
     ]
    },
    {
     "data": {
      "image/png": "[encoded data removed]",
      "text/plain": [
       "<matplotlib.figure.Figure at 0x245c76e0ef0>"
      ]
     },
     "metadata": {},
     "output_type": "display_data"
    }
   ],
   "source": [
    "prediction_evaluation(\"SVM\",classifier_rbf,X_test,y_test)"
   ]
  },
  {
   "cell_type": "code",
   "execution_count": 85,
   "metadata": {
    "collapsed": false
   },
   "outputs": [
    {
     "data": {
      "text/plain": [
       "0.3582089552238806"
      ]
     },
     "execution_count": 85,
     "metadata": {},
     "output_type": "execute_result"
    }
   ],
   "source": [
    "len(y_test[y_test==1])/(len(y_test))"
   ]
  },
  {
   "cell_type": "markdown",
   "metadata": {},
   "source": [
    "### Build Naive Bayes Model"
   ]
  },
  {
   "cell_type": "code",
   "execution_count": 87,
   "metadata": {
    "collapsed": false
   },
   "outputs": [
    {
     "data": {
      "text/plain": [
       "MultinomialNB(alpha=1.0, class_prior=None, fit_prior=True)"
      ]
     },
     "execution_count": 87,
     "metadata": {},
     "output_type": "execute_result"
    }
   ],
   "source": [
    "from sklearn.naive_bayes import MultinomialNB\n",
    "clf_NB = MultinomialNB()\n",
    "clf_NB.fit(X_train, y_train)"
   ]
  },
  {
   "cell_type": "code",
   "execution_count": 88,
   "metadata": {
    "collapsed": false
   },
   "outputs": [
    {
     "name": "stdout",
     "output_type": "stream",
     "text": [
      "             precision    recall  f1-score   support\n",
      "\n",
      "        sad       0.64      1.00      0.78        43\n",
      "      happy       0.00      0.00      0.00        24\n",
      "\n",
      "avg / total       0.41      0.64      0.50        67\n",
      "\n",
      "#### MultinomialNB accuracy =  64.2%\n"
     ]
    },
    {
     "name": "stderr",
     "output_type": "stream",
     "text": [
      "C:\\Users\\10465\\Anaconda3\\lib\\site-packages\\sklearn\\metrics\\classification.py:1074: UndefinedMetricWarning: Precision and F-score are ill-defined and being set to 0.0 in labels with no predicted samples.\n",
      "  'precision', 'predicted', average, warn_for)\n"
     ]
    },
    {
     "data": {
      "image/png": "[encoded data removed]",
      "text/plain": [
       "<matplotlib.figure.Figure at 0x245c76d0b70>"
      ]
     },
     "metadata": {},
     "output_type": "display_data"
    }
   ],
   "source": [
    "prediction_evaluation(\"MultinomialNB\",clf_NB,X_test,y_test)"
   ]
  },
  {
   "cell_type": "markdown",
   "metadata": {
    "collapsed": true
   },
   "source": [
    "## key words chang through time"
   ]
  },
  {
   "cell_type": "code",
   "execution_count": 10,
   "metadata": {
    "collapsed": false
   },
   "outputs": [
    {
     "data": {
      "text/plain": [
       "{0,\n",
       " 1956,\n",
       " 1960,\n",
       " 1962,\n",
       " 1963,\n",
       " 1964,\n",
       " 1969,\n",
       " 1972,\n",
       " 1975,\n",
       " 1977,\n",
       " 1980,\n",
       " 1981,\n",
       " 1983,\n",
       " 1984,\n",
       " 1985,\n",
       " 1986,\n",
       " 1987,\n",
       " 1990,\n",
       " 1991,\n",
       " 1992,\n",
       " 1994,\n",
       " 1995,\n",
       " 1996,\n",
       " 1997,\n",
       " 1998,\n",
       " 1999,\n",
       " 2000,\n",
       " 2001,\n",
       " 2002,\n",
       " 2003,\n",
       " 2004,\n",
       " 2005,\n",
       " 2006,\n",
       " 2007,\n",
       " 2008,\n",
       " 2009,\n",
       " 2010}"
      ]
     },
     "execution_count": 10,
     "metadata": {},
     "output_type": "execute_result"
    }
   ],
   "source": [
    "set(df[\"year\"])"
   ]
  },
  {
   "cell_type": "code",
   "execution_count": 35,
   "metadata": {
    "collapsed": false
   },
   "outputs": [],
   "source": [
    "lyrics_50s = \"\"\n",
    "lyrics_60s = \"\"\n",
    "lyrics_70s = \"\"\n",
    "lyrics_80s = \"\"\n",
    "lyrics_90s = \"\"\n",
    "lyrics_00s = \"\"\n",
    "for row_id in df.index:\n",
    "    if df.loc[row_id]['year']>=1950 and df.loc[row_id]['year']<1960:\n",
    "        lyrics_50s = lyrics_50s+\" \"+df.loc[row_id]['lyrics']\n",
    "    if df.loc[row_id]['year']>=1960 and df.loc[row_id]['year']<1970:\n",
    "        lyrics_60s = lyrics_60s+\" \"+df.loc[row_id]['lyrics']\n",
    "    if df.loc[row_id]['year']>=1970 and df.loc[row_id]['year']<1980:\n",
    "        lyrics_70s = lyrics_70s+\" \"+df.loc[row_id]['lyrics']\n",
    "    if df.loc[row_id]['year']>=1980 and df.loc[row_id]['year']<1990:\n",
    "        lyrics_80s = lyrics_80s+\" \"+df.loc[row_id]['lyrics']\n",
    "    if df.loc[row_id]['year']>=1990 and df.loc[row_id]['year']<2000:\n",
    "        lyrics_90s = lyrics_90s+\" \"+df.loc[row_id]['lyrics']\n",
    "    if df.loc[row_id]['year']>=2000 and df.loc[row_id]['year']<2011:\n",
    "        lyrics_00s = lyrics_00s+\" \"+df.loc[row_id]['lyrics']\n",
    "    "
   ]
  },
  {
   "cell_type": "markdown",
   "metadata": {},
   "source": [
    "print(lyrics_50s)"
   ]
  },
  {
   "cell_type": "code",
   "execution_count": 37,
   "metadata": {
    "collapsed": false
   },
   "outputs": [
    {
     "name": "stdout",
     "output_type": "stream",
     "text": [
      " I put a spell on you \r\n",
      "Because you're mine \r\n",
      "Stop the things you do \r\n",
      "Watch out, I ain't lying \r\n",
      "\r\n",
      "I can't stand \r\n",
      "No running around \r\n",
      "I can't stand\r\n",
      "No putting me down \r\n",
      "\r\n",
      "I put a spell on you \r\n",
      "Because you're mine, oh yeah\r\n",
      "\r\n",
      "Stop the things you do \r\n",
      "Watch out, I ain't lying \r\n",
      "\r\n",
      "Oh, oh, I love you, I love you \r\n",
      "I love you anyhow \r\n",
      "I don't care if you don't want me \r\n",
      "I'm yours right now \r\n",
      "\r\n",
      "I put a spell on you \r\n",
      "Because you're mine, mine, mine \r\n",
      "Oh, ooh you're mine\n"
     ]
    }
   ],
   "source": [
    "print(lyrics_50s)"
   ]
  },
  {
   "cell_type": "code",
   "execution_count": 39,
   "metadata": {
    "collapsed": false
   },
   "outputs": [],
   "source": [
    "text_file = open(\"SongLyrics_50.txt\", \"w\")\n",
    "text_file.write(lyrics_50s)\n",
    "text_file.close()"
   ]
  },
  {
   "cell_type": "code",
   "execution_count": 40,
   "metadata": {
    "collapsed": true
   },
   "outputs": [],
   "source": [
    "text_file = open(\"SongLyrics_60.txt\", \"w\")\n",
    "text_file.write(lyrics_60s)\n",
    "text_file.close()"
   ]
  },
  {
   "cell_type": "code",
   "execution_count": 41,
   "metadata": {
    "collapsed": true
   },
   "outputs": [],
   "source": [
    "text_file = open(\"SongLyrics_70.txt\", \"w\")\n",
    "text_file.write(lyrics_70s)\n",
    "text_file.close()"
   ]
  },
  {
   "cell_type": "code",
   "execution_count": 42,
   "metadata": {
    "collapsed": true
   },
   "outputs": [],
   "source": [
    "text_file = open(\"SongLyrics_80.txt\", \"w\")\n",
    "text_file.write(lyrics_80s)\n",
    "text_file.close()"
   ]
  },
  {
   "cell_type": "code",
   "execution_count": 43,
   "metadata": {
    "collapsed": true
   },
   "outputs": [],
   "source": [
    "text_file = open(\"SongLyrics_90.txt\", \"w\")\n",
    "text_file.write(lyrics_90s)\n",
    "text_file.close()"
   ]
  },
  {
   "cell_type": "code",
   "execution_count": 44,
   "metadata": {
    "collapsed": true
   },
   "outputs": [],
   "source": [
    "text_file = open(\"SongLyrics_00.txt\", \"w\")\n",
    "text_file.write(lyrics_00s)\n",
    "text_file.close()"
   ]
  },
  {
   "cell_type": "markdown",
   "metadata": {},
   "source": [
    "## Most frequent words from 50s to 00s\n",
    "\n",
    "50s:   oh; you're; love; spell; ain't\n",
    "\n",
    "60s:   baby; want; come; time; let\n",
    "\n",
    "70s:   come; got; little; i'm; baby\n",
    "\n",
    "80s:   groove; come; fascist; thang; brothers\n",
    "\n",
    "90s:   i'm; na; love; know; it's\n",
    "\n",
    "00s:   i'm; just; it's; got; know"
   ]
  },
  {
   "cell_type": "code",
   "execution_count": null,
   "metadata": {
    "collapsed": true
   },
   "outputs": [],
   "source": []
  }
 ],
 "metadata": {
  "anaconda-cloud": {},
  "kernelspec": {
   "display_name": "Python [conda root]",
   "language": "python",
   "name": "conda-root-py"
  },
  "language_info": {
   "codemirror_mode": {
    "name": "ipython",
    "version": 3
   },
   "file_extension": ".py",
   "mimetype": "text/x-python",
   "name": "python",
   "nbconvert_exporter": "python",
   "pygments_lexer": "ipython3",
   "version": "3.5.2"
  }
 },
 "nbformat": 4,
 "nbformat_minor": 2
}
